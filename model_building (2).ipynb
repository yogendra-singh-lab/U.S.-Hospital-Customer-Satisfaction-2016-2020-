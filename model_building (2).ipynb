{
  "nbformat": 4,
  "nbformat_minor": 0,
  "metadata": {
    "colab": {
      "name": "model_building",
      "provenance": [],
      "collapsed_sections": []
    },
    "kernelspec": {
      "name": "python3",
      "display_name": "Python 3"
    },
    "language_info": {
      "name": "python"
    }
  },
  "cells": [
    {
      "cell_type": "code",
      "source": [
        "! pip install https://github.com/pandas-profiling/pandas-profiling/archive/master.zip"
      ],
      "metadata": {
        "colab": {
          "base_uri": "https://localhost:8080/"
        },
        "id": "zx1USF9Kx9Ne",
        "outputId": "d01587c8-5b11-4bcb-ee83-8035057ed9dd"
      },
      "execution_count": null,
      "outputs": [
        {
          "output_type": "stream",
          "name": "stdout",
          "text": [
            "Collecting https://github.com/pandas-profiling/pandas-profiling/archive/master.zip\n",
            "  Using cached https://github.com/pandas-profiling/pandas-profiling/archive/master.zip\n",
            "Requirement already satisfied: joblib~=1.1.0 in /usr/local/lib/python3.7/dist-packages (from pandas-profiling==3.1.1) (1.1.0)\n",
            "Requirement already satisfied: scipy>=1.4.1 in /usr/local/lib/python3.7/dist-packages (from pandas-profiling==3.1.1) (1.7.3)\n",
            "Requirement already satisfied: pandas!=1.0.0,!=1.0.1,!=1.0.2,!=1.1.0,>=0.25.3 in /usr/local/lib/python3.7/dist-packages (from pandas-profiling==3.1.1) (1.3.5)\n",
            "Requirement already satisfied: matplotlib>=3.2.0 in /usr/local/lib/python3.7/dist-packages (from pandas-profiling==3.1.1) (3.2.2)\n",
            "Requirement already satisfied: pydantic>=1.8.1 in /usr/local/lib/python3.7/dist-packages (from pandas-profiling==3.1.1) (1.9.0)\n",
            "Requirement already satisfied: PyYAML>=5.0.0 in /usr/local/lib/python3.7/dist-packages (from pandas-profiling==3.1.1) (6.0)\n",
            "Requirement already satisfied: jinja2>=2.11.1 in /usr/local/lib/python3.7/dist-packages (from pandas-profiling==3.1.1) (2.11.3)\n",
            "Requirement already satisfied: markupsafe~=2.0.1 in /usr/local/lib/python3.7/dist-packages (from pandas-profiling==3.1.1) (2.0.1)\n",
            "Requirement already satisfied: visions[type_image_path]==0.7.4 in /usr/local/lib/python3.7/dist-packages (from pandas-profiling==3.1.1) (0.7.4)\n",
            "Requirement already satisfied: numpy>=1.16.0 in /usr/local/lib/python3.7/dist-packages (from pandas-profiling==3.1.1) (1.21.5)\n",
            "Requirement already satisfied: htmlmin>=0.1.12 in /usr/local/lib/python3.7/dist-packages (from pandas-profiling==3.1.1) (0.1.12)\n",
            "Requirement already satisfied: missingno>=0.4.2 in /usr/local/lib/python3.7/dist-packages (from pandas-profiling==3.1.1) (0.5.0)\n",
            "Requirement already satisfied: phik>=0.11.1 in /usr/local/lib/python3.7/dist-packages (from pandas-profiling==3.1.1) (0.12.0)\n",
            "Requirement already satisfied: tangled-up-in-unicode==0.2.0 in /usr/local/lib/python3.7/dist-packages (from pandas-profiling==3.1.1) (0.2.0)\n",
            "Requirement already satisfied: requests>=2.24.0 in /usr/local/lib/python3.7/dist-packages (from pandas-profiling==3.1.1) (2.27.1)\n",
            "Requirement already satisfied: tqdm>=4.48.2 in /usr/local/lib/python3.7/dist-packages (from pandas-profiling==3.1.1) (4.62.3)\n",
            "Requirement already satisfied: seaborn>=0.10.1 in /usr/local/lib/python3.7/dist-packages (from pandas-profiling==3.1.1) (0.11.2)\n",
            "Requirement already satisfied: multimethod>=1.4 in /usr/local/lib/python3.7/dist-packages (from pandas-profiling==3.1.1) (1.7)\n",
            "Requirement already satisfied: networkx>=2.4 in /usr/local/lib/python3.7/dist-packages (from visions[type_image_path]==0.7.4->pandas-profiling==3.1.1) (2.6.3)\n",
            "Requirement already satisfied: attrs>=19.3.0 in /usr/local/lib/python3.7/dist-packages (from visions[type_image_path]==0.7.4->pandas-profiling==3.1.1) (21.4.0)\n",
            "Requirement already satisfied: Pillow in /usr/local/lib/python3.7/dist-packages (from visions[type_image_path]==0.7.4->pandas-profiling==3.1.1) (7.1.2)\n",
            "Requirement already satisfied: imagehash in /usr/local/lib/python3.7/dist-packages (from visions[type_image_path]==0.7.4->pandas-profiling==3.1.1) (4.2.1)\n",
            "Requirement already satisfied: kiwisolver>=1.0.1 in /usr/local/lib/python3.7/dist-packages (from matplotlib>=3.2.0->pandas-profiling==3.1.1) (1.3.2)\n",
            "Requirement already satisfied: cycler>=0.10 in /usr/local/lib/python3.7/dist-packages (from matplotlib>=3.2.0->pandas-profiling==3.1.1) (0.11.0)\n",
            "Requirement already satisfied: pyparsing!=2.0.4,!=2.1.2,!=2.1.6,>=2.0.1 in /usr/local/lib/python3.7/dist-packages (from matplotlib>=3.2.0->pandas-profiling==3.1.1) (3.0.7)\n",
            "Requirement already satisfied: python-dateutil>=2.1 in /usr/local/lib/python3.7/dist-packages (from matplotlib>=3.2.0->pandas-profiling==3.1.1) (2.8.2)\n",
            "Requirement already satisfied: pytz>=2017.3 in /usr/local/lib/python3.7/dist-packages (from pandas!=1.0.0,!=1.0.1,!=1.0.2,!=1.1.0,>=0.25.3->pandas-profiling==3.1.1) (2018.9)\n",
            "Requirement already satisfied: typing-extensions>=3.7.4.3 in /usr/local/lib/python3.7/dist-packages (from pydantic>=1.8.1->pandas-profiling==3.1.1) (3.10.0.2)\n",
            "Requirement already satisfied: six>=1.5 in /usr/local/lib/python3.7/dist-packages (from python-dateutil>=2.1->matplotlib>=3.2.0->pandas-profiling==3.1.1) (1.15.0)\n",
            "Requirement already satisfied: urllib3<1.27,>=1.21.1 in /usr/local/lib/python3.7/dist-packages (from requests>=2.24.0->pandas-profiling==3.1.1) (1.24.3)\n",
            "Requirement already satisfied: charset-normalizer~=2.0.0 in /usr/local/lib/python3.7/dist-packages (from requests>=2.24.0->pandas-profiling==3.1.1) (2.0.11)\n",
            "Requirement already satisfied: idna<4,>=2.5 in /usr/local/lib/python3.7/dist-packages (from requests>=2.24.0->pandas-profiling==3.1.1) (2.10)\n",
            "Requirement already satisfied: certifi>=2017.4.17 in /usr/local/lib/python3.7/dist-packages (from requests>=2.24.0->pandas-profiling==3.1.1) (2021.10.8)\n",
            "Requirement already satisfied: PyWavelets in /usr/local/lib/python3.7/dist-packages (from imagehash->visions[type_image_path]==0.7.4->pandas-profiling==3.1.1) (1.2.0)\n"
          ]
        }
      ]
    },
    {
      "cell_type": "code",
      "execution_count": null,
      "metadata": {
        "id": "HV-oLoXlxgUO"
      },
      "outputs": [],
      "source": [
        "import numpy as np\n",
        "import pandas as pd\n",
        "import matplotlib.pyplot as plt\n",
        "\n",
        "from pandas_profiling import ProfileReport\n",
        "\n",
        "from sklearn.preprocessing import MinMaxScaler\n",
        "from sklearn.model_selection import train_test_split as tts\n",
        "\n",
        "from sklearn.linear_model import LinearRegression, Ridge, Lasso\n",
        "from lightgbm import LGBMClassifier"
      ]
    },
    {
      "cell_type": "code",
      "source": [
        "path = \"/content/drive/MyDrive/Colab Notebooks/hamoye/data/\""
      ],
      "metadata": {
        "id": "P-oQuv9EfECj"
      },
      "execution_count": null,
      "outputs": []
    },
    {
      "cell_type": "code",
      "source": [
        "data = pd.read_csv(path + \"final_data.csv\")\n",
        "data = data.set_index([\"facility_id\", \"year\"])"
      ],
      "metadata": {
        "id": "8SdEMGzRyWbH"
      },
      "execution_count": null,
      "outputs": []
    },
    {
      "cell_type": "code",
      "source": [
        "data.info()"
      ],
      "metadata": {
        "colab": {
          "base_uri": "https://localhost:8080/"
        },
        "id": "qzuz_KVvzy8C",
        "outputId": "b6d0b641-4c46-412e-b08e-7e0cc41fd4e5"
      },
      "execution_count": null,
      "outputs": [
        {
          "output_type": "stream",
          "name": "stdout",
          "text": [
            "<class 'pandas.core.frame.DataFrame'>\n",
            "MultiIndex: 23928 entries, ('010001', 2016) to ('670130', 2020)\n",
            "Data columns (total 40 columns):\n",
            " #   Column                                                 Non-Null Count  Dtype  \n",
            "---  ------                                                 --------------  -----  \n",
            " 0   facility_name                                          23928 non-null  object \n",
            " 1   city                                                   23928 non-null  object \n",
            " 2   state                                                  23928 non-null  object \n",
            " 3   number_of_completed_surveys                            23928 non-null  object \n",
            " 4   survey_response_rate_percent                           23928 non-null  object \n",
            " 5   hospital_type                                          23928 non-null  object \n",
            " 6   hospital_ownership                                     23928 non-null  object \n",
            " 7   emergency_services                                     23928 non-null  object \n",
            " 8   meets_criteria_for_promoting_interoperability_of_ehrs  21316 non-null  object \n",
            " 9   hospital_overall_rating                                23928 non-null  object \n",
            " 10  mortality_national_comparison                          23928 non-null  object \n",
            " 11  safety_of_care_national_comparison                     23928 non-null  object \n",
            " 12  readmission_national_comparison                        23928 non-null  object \n",
            " 13  patient_experience_national_comparison                 23928 non-null  object \n",
            " 14  effectiveness_of_care_national_comparison              23928 non-null  object \n",
            " 15  timeliness_of_care_national_comparison                 23928 non-null  object \n",
            " 16  efficient_use_of_medical_imaging_national_comparison   23928 non-null  object \n",
            " 17  summary_star_rating                                    17183 non-null  float64\n",
            " 18  nurse_communication_-_linear_mean_score                17183 non-null  float64\n",
            " 19  cleanliness_-_linear_mean_score                        17183 non-null  float64\n",
            " 20  cleanliness_-_star_rating                              17183 non-null  float64\n",
            " 21  nurse_communication_-_star_rating                      17183 non-null  float64\n",
            " 22  doctor_communication_-_linear_mean_score               17183 non-null  float64\n",
            " 23  doctor_communication_-_star_rating                     17183 non-null  float64\n",
            " 24  staff_responsiveness_-_linear_mean_score               17183 non-null  float64\n",
            " 25  staff_responsiveness_-_star_rating                     17183 non-null  float64\n",
            " 26  pain_management_-_linear_mean_score                    6988 non-null   float64\n",
            " 27  pain_management_-_star_rating                          6988 non-null   float64\n",
            " 28  communication_about_medicines_-_linear_mean_score      17183 non-null  float64\n",
            " 29  communication_about_medicines_-_star_rating            17183 non-null  float64\n",
            " 30  discharge_information_-_linear_mean_score              17183 non-null  float64\n",
            " 31  discharge_information_-_star_rating                    17183 non-null  float64\n",
            " 32  care_transition_-_linear_mean_score                    17183 non-null  float64\n",
            " 33  care_transition_-_star_rating                          17183 non-null  float64\n",
            " 34  overall_hospital_rating_-_linear_mean_score            17183 non-null  float64\n",
            " 35  overall_hospital_rating_-_star_rating                  17183 non-null  float64\n",
            " 36  quietness_-_linear_mean_score                          17183 non-null  float64\n",
            " 37  quietness_-_star_rating                                17183 non-null  float64\n",
            " 38  recommend_hospital_-_linear_mean_score                 17183 non-null  float64\n",
            " 39  recommend_hospital_-_star_rating                       17183 non-null  float64\n",
            "dtypes: float64(23), object(17)\n",
            "memory usage: 7.5+ MB\n"
          ]
        }
      ]
    },
    {
      "cell_type": "code",
      "source": [
        "data.isna().sum() / len(data) * 100"
      ],
      "metadata": {
        "colab": {
          "base_uri": "https://localhost:8080/"
        },
        "id": "zSxvlx4N5G-J",
        "outputId": "5b78e367-4bad-41e5-a854-dd19c00a147f"
      },
      "execution_count": null,
      "outputs": [
        {
          "output_type": "execute_result",
          "data": {
            "text/plain": [
              "facility_name                                             0.000000\n",
              "city                                                      0.000000\n",
              "state                                                     0.000000\n",
              "number_of_completed_surveys                               0.000000\n",
              "survey_response_rate_percent                              0.000000\n",
              "hospital_type                                             0.000000\n",
              "hospital_ownership                                        0.000000\n",
              "emergency_services                                        0.000000\n",
              "meets_criteria_for_promoting_interoperability_of_ehrs    10.916082\n",
              "hospital_overall_rating                                   0.000000\n",
              "mortality_national_comparison                             0.000000\n",
              "safety_of_care_national_comparison                        0.000000\n",
              "readmission_national_comparison                           0.000000\n",
              "patient_experience_national_comparison                    0.000000\n",
              "effectiveness_of_care_national_comparison                 0.000000\n",
              "timeliness_of_care_national_comparison                    0.000000\n",
              "efficient_use_of_medical_imaging_national_comparison      0.000000\n",
              "summary_star_rating                                      28.188733\n",
              "nurse_communication_-_linear_mean_score                  28.188733\n",
              "cleanliness_-_linear_mean_score                          28.188733\n",
              "cleanliness_-_star_rating                                28.188733\n",
              "nurse_communication_-_star_rating                        28.188733\n",
              "doctor_communication_-_linear_mean_score                 28.188733\n",
              "doctor_communication_-_star_rating                       28.188733\n",
              "staff_responsiveness_-_linear_mean_score                 28.188733\n",
              "staff_responsiveness_-_star_rating                       28.188733\n",
              "pain_management_-_linear_mean_score                      70.795720\n",
              "pain_management_-_star_rating                            70.795720\n",
              "communication_about_medicines_-_linear_mean_score        28.188733\n",
              "communication_about_medicines_-_star_rating              28.188733\n",
              "discharge_information_-_linear_mean_score                28.188733\n",
              "discharge_information_-_star_rating                      28.188733\n",
              "care_transition_-_linear_mean_score                      28.188733\n",
              "care_transition_-_star_rating                            28.188733\n",
              "overall_hospital_rating_-_linear_mean_score              28.188733\n",
              "overall_hospital_rating_-_star_rating                    28.188733\n",
              "quietness_-_linear_mean_score                            28.188733\n",
              "quietness_-_star_rating                                  28.188733\n",
              "recommend_hospital_-_linear_mean_score                   28.188733\n",
              "recommend_hospital_-_star_rating                         28.188733\n",
              "dtype: float64"
            ]
          },
          "metadata": {},
          "execution_count": 6
        }
      ]
    },
    {
      "cell_type": "markdown",
      "source": [
        "We all know the cause of the null values in the survey questions"
      ],
      "metadata": {
        "id": "fiz2KNqN4xv2"
      }
    },
    {
      "cell_type": "code",
      "source": [
        "data.select_dtypes(\"object\")"
      ],
      "metadata": {
        "colab": {
          "base_uri": "https://localhost:8080/",
          "height": 1000
        },
        "id": "j-MohBWK0_HX",
        "outputId": "b1144b3a-1f92-48f4-c619-072fdb22c8c8"
      },
      "execution_count": null,
      "outputs": [
        {
          "output_type": "execute_result",
          "data": {
            "text/html": [
              "\n",
              "  <div id=\"df-58c1710b-8bb4-4d4a-abc4-7cafb7922953\">\n",
              "    <div class=\"colab-df-container\">\n",
              "      <div>\n",
              "<style scoped>\n",
              "    .dataframe tbody tr th:only-of-type {\n",
              "        vertical-align: middle;\n",
              "    }\n",
              "\n",
              "    .dataframe tbody tr th {\n",
              "        vertical-align: top;\n",
              "    }\n",
              "\n",
              "    .dataframe thead th {\n",
              "        text-align: right;\n",
              "    }\n",
              "</style>\n",
              "<table border=\"1\" class=\"dataframe\">\n",
              "  <thead>\n",
              "    <tr style=\"text-align: right;\">\n",
              "      <th></th>\n",
              "      <th></th>\n",
              "      <th>facility_name</th>\n",
              "      <th>city</th>\n",
              "      <th>state</th>\n",
              "      <th>number_of_completed_surveys</th>\n",
              "      <th>survey_response_rate_percent</th>\n",
              "      <th>hospital_type</th>\n",
              "      <th>hospital_ownership</th>\n",
              "      <th>emergency_services</th>\n",
              "      <th>meets_criteria_for_promoting_interoperability_of_ehrs</th>\n",
              "      <th>hospital_overall_rating</th>\n",
              "      <th>mortality_national_comparison</th>\n",
              "      <th>safety_of_care_national_comparison</th>\n",
              "      <th>readmission_national_comparison</th>\n",
              "      <th>patient_experience_national_comparison</th>\n",
              "      <th>effectiveness_of_care_national_comparison</th>\n",
              "      <th>timeliness_of_care_national_comparison</th>\n",
              "      <th>efficient_use_of_medical_imaging_national_comparison</th>\n",
              "    </tr>\n",
              "    <tr>\n",
              "      <th>facility_id</th>\n",
              "      <th>year</th>\n",
              "      <th></th>\n",
              "      <th></th>\n",
              "      <th></th>\n",
              "      <th></th>\n",
              "      <th></th>\n",
              "      <th></th>\n",
              "      <th></th>\n",
              "      <th></th>\n",
              "      <th></th>\n",
              "      <th></th>\n",
              "      <th></th>\n",
              "      <th></th>\n",
              "      <th></th>\n",
              "      <th></th>\n",
              "      <th></th>\n",
              "      <th></th>\n",
              "      <th></th>\n",
              "    </tr>\n",
              "  </thead>\n",
              "  <tbody>\n",
              "    <tr>\n",
              "      <th rowspan=\"5\" valign=\"top\">010001</th>\n",
              "      <th>2016</th>\n",
              "      <td>SOUTHEAST ALABAMA MEDICAL CENTER</td>\n",
              "      <td>DOTHAN</td>\n",
              "      <td>AL</td>\n",
              "      <td>1213</td>\n",
              "      <td>27</td>\n",
              "      <td>Acute Care Hospitals</td>\n",
              "      <td>Government - Hospital District or Authority</td>\n",
              "      <td>Yes</td>\n",
              "      <td>Y</td>\n",
              "      <td>3</td>\n",
              "      <td>Same as the National average</td>\n",
              "      <td>Above the National average</td>\n",
              "      <td>Same as the National average</td>\n",
              "      <td>Below the National average</td>\n",
              "      <td>Same as the National average</td>\n",
              "      <td>Same as the National average</td>\n",
              "      <td>Same as the National average</td>\n",
              "    </tr>\n",
              "    <tr>\n",
              "      <th>2017</th>\n",
              "      <td>SOUTHEAST ALABAMA MEDICAL CENTER</td>\n",
              "      <td>DOTHAN</td>\n",
              "      <td>AL</td>\n",
              "      <td>1332</td>\n",
              "      <td>25</td>\n",
              "      <td>Acute Care Hospitals</td>\n",
              "      <td>Government - Hospital District or Authority</td>\n",
              "      <td>Yes</td>\n",
              "      <td>Y</td>\n",
              "      <td>3</td>\n",
              "      <td>Same as the national average</td>\n",
              "      <td>Above the national average</td>\n",
              "      <td>Same as the national average</td>\n",
              "      <td>Below the national average</td>\n",
              "      <td>Same as the national average</td>\n",
              "      <td>Same as the national average</td>\n",
              "      <td>Same as the national average</td>\n",
              "    </tr>\n",
              "    <tr>\n",
              "      <th>2018</th>\n",
              "      <td>SOUTHEAST ALABAMA MEDICAL CENTER</td>\n",
              "      <td>DOTHAN</td>\n",
              "      <td>AL</td>\n",
              "      <td>463</td>\n",
              "      <td>20</td>\n",
              "      <td>Acute Care Hospitals</td>\n",
              "      <td>Government - Hospital District or Authority</td>\n",
              "      <td>Yes</td>\n",
              "      <td>Y</td>\n",
              "      <td>3</td>\n",
              "      <td>Same as the national average</td>\n",
              "      <td>Above the national average</td>\n",
              "      <td>Below the national average</td>\n",
              "      <td>Below the national average</td>\n",
              "      <td>Same as the national average</td>\n",
              "      <td>Same as the national average</td>\n",
              "      <td>Same as the national average</td>\n",
              "    </tr>\n",
              "    <tr>\n",
              "      <th>2019</th>\n",
              "      <td>SOUTHEAST ALABAMA MEDICAL CENTER</td>\n",
              "      <td>DOTHAN</td>\n",
              "      <td>AL</td>\n",
              "      <td>558</td>\n",
              "      <td>23</td>\n",
              "      <td>Acute Care Hospitals</td>\n",
              "      <td>Government - Hospital District or Authority</td>\n",
              "      <td>Yes</td>\n",
              "      <td>Y</td>\n",
              "      <td>2</td>\n",
              "      <td>Below the national average</td>\n",
              "      <td>Above the national average</td>\n",
              "      <td>Below the national average</td>\n",
              "      <td>Below the national average</td>\n",
              "      <td>Same as the national average</td>\n",
              "      <td>Above the national average</td>\n",
              "      <td>Same as the national average</td>\n",
              "    </tr>\n",
              "    <tr>\n",
              "      <th>2020</th>\n",
              "      <td>SOUTHEAST ALABAMA MEDICAL CENTER</td>\n",
              "      <td>DOTHAN</td>\n",
              "      <td>AL</td>\n",
              "      <td>535</td>\n",
              "      <td>22</td>\n",
              "      <td>Acute Care Hospitals</td>\n",
              "      <td>Government - Hospital District or Authority</td>\n",
              "      <td>Yes</td>\n",
              "      <td>Y</td>\n",
              "      <td>2</td>\n",
              "      <td>Below the national average</td>\n",
              "      <td>Same as the national average</td>\n",
              "      <td>Below the national average</td>\n",
              "      <td>Below the national average</td>\n",
              "      <td>Same as the national average</td>\n",
              "      <td>Same as the national average</td>\n",
              "      <td>Same as the national average</td>\n",
              "    </tr>\n",
              "    <tr>\n",
              "      <th>...</th>\n",
              "      <th>...</th>\n",
              "      <td>...</td>\n",
              "      <td>...</td>\n",
              "      <td>...</td>\n",
              "      <td>...</td>\n",
              "      <td>...</td>\n",
              "      <td>...</td>\n",
              "      <td>...</td>\n",
              "      <td>...</td>\n",
              "      <td>...</td>\n",
              "      <td>...</td>\n",
              "      <td>...</td>\n",
              "      <td>...</td>\n",
              "      <td>...</td>\n",
              "      <td>...</td>\n",
              "      <td>...</td>\n",
              "      <td>...</td>\n",
              "      <td>...</td>\n",
              "    </tr>\n",
              "    <tr>\n",
              "      <th>670127</th>\n",
              "      <th>2020</th>\n",
              "      <td>EL PASO LTAC HOSPTIAL</td>\n",
              "      <td>EL PASO</td>\n",
              "      <td>TX</td>\n",
              "      <td>Not Available</td>\n",
              "      <td>Not Available</td>\n",
              "      <td>Acute Care Hospitals</td>\n",
              "      <td>Physician</td>\n",
              "      <td>No</td>\n",
              "      <td>NaN</td>\n",
              "      <td>Not Available</td>\n",
              "      <td>Not Available</td>\n",
              "      <td>Not Available</td>\n",
              "      <td>Not Available</td>\n",
              "      <td>Not Available</td>\n",
              "      <td>Not Available</td>\n",
              "      <td>Not Available</td>\n",
              "      <td>Not Available</td>\n",
              "    </tr>\n",
              "    <tr>\n",
              "      <th rowspan=\"2\" valign=\"top\">670128</th>\n",
              "      <th>2019</th>\n",
              "      <td>BAYLOR SCOTT &amp; WHITE MEDICAL CENTER  PFLUGERVILLE</td>\n",
              "      <td>PFLUGERVILLE</td>\n",
              "      <td>TX</td>\n",
              "      <td>Not Available</td>\n",
              "      <td>Not Available</td>\n",
              "      <td>Acute Care Hospitals</td>\n",
              "      <td>Voluntary non-profit - Private</td>\n",
              "      <td>Yes</td>\n",
              "      <td>NaN</td>\n",
              "      <td>Not Available</td>\n",
              "      <td>Not Available</td>\n",
              "      <td>Not Available</td>\n",
              "      <td>Not Available</td>\n",
              "      <td>Not Available</td>\n",
              "      <td>Not Available</td>\n",
              "      <td>Not Available</td>\n",
              "      <td>Not Available</td>\n",
              "    </tr>\n",
              "    <tr>\n",
              "      <th>2020</th>\n",
              "      <td>BAYLOR SCOTT &amp; WHITE MEDICAL CENTER PFLUGERVILLE</td>\n",
              "      <td>PFLUGERVILLE</td>\n",
              "      <td>TX</td>\n",
              "      <td>Not Available</td>\n",
              "      <td>Not Available</td>\n",
              "      <td>Acute Care Hospitals</td>\n",
              "      <td>Voluntary non-profit - Private</td>\n",
              "      <td>Yes</td>\n",
              "      <td>NaN</td>\n",
              "      <td>Not Available</td>\n",
              "      <td>Not Available</td>\n",
              "      <td>Not Available</td>\n",
              "      <td>Not Available</td>\n",
              "      <td>Not Available</td>\n",
              "      <td>Not Available</td>\n",
              "      <td>Not Available</td>\n",
              "      <td>Not Available</td>\n",
              "    </tr>\n",
              "    <tr>\n",
              "      <th>670129</th>\n",
              "      <th>2020</th>\n",
              "      <td>THE HEIGHTS HOSPITAL</td>\n",
              "      <td>HOUSTON</td>\n",
              "      <td>TX</td>\n",
              "      <td>Not Available</td>\n",
              "      <td>Not Available</td>\n",
              "      <td>Acute Care Hospitals</td>\n",
              "      <td>Proprietary</td>\n",
              "      <td>No</td>\n",
              "      <td>NaN</td>\n",
              "      <td>Not Available</td>\n",
              "      <td>Not Available</td>\n",
              "      <td>Not Available</td>\n",
              "      <td>Not Available</td>\n",
              "      <td>Not Available</td>\n",
              "      <td>Not Available</td>\n",
              "      <td>Not Available</td>\n",
              "      <td>Not Available</td>\n",
              "    </tr>\n",
              "    <tr>\n",
              "      <th>670130</th>\n",
              "      <th>2020</th>\n",
              "      <td>SOUTHCROSS HOSPITAL</td>\n",
              "      <td>SAN ANTONIO</td>\n",
              "      <td>TX</td>\n",
              "      <td>Not Available</td>\n",
              "      <td>Not Available</td>\n",
              "      <td>Acute Care Hospitals</td>\n",
              "      <td>Proprietary</td>\n",
              "      <td>Yes</td>\n",
              "      <td>NaN</td>\n",
              "      <td>Not Available</td>\n",
              "      <td>Not Available</td>\n",
              "      <td>Not Available</td>\n",
              "      <td>Not Available</td>\n",
              "      <td>Not Available</td>\n",
              "      <td>Not Available</td>\n",
              "      <td>Not Available</td>\n",
              "      <td>Not Available</td>\n",
              "    </tr>\n",
              "  </tbody>\n",
              "</table>\n",
              "<p>23928 rows × 17 columns</p>\n",
              "</div>\n",
              "      <button class=\"colab-df-convert\" onclick=\"convertToInteractive('df-58c1710b-8bb4-4d4a-abc4-7cafb7922953')\"\n",
              "              title=\"Convert this dataframe to an interactive table.\"\n",
              "              style=\"display:none;\">\n",
              "        \n",
              "  <svg xmlns=\"http://www.w3.org/2000/svg\" height=\"24px\"viewBox=\"0 0 24 24\"\n",
              "       width=\"24px\">\n",
              "    <path d=\"M0 0h24v24H0V0z\" fill=\"none\"/>\n",
              "    <path d=\"M18.56 5.44l.94 2.06.94-2.06 2.06-.94-2.06-.94-.94-2.06-.94 2.06-2.06.94zm-11 1L8.5 8.5l.94-2.06 2.06-.94-2.06-.94L8.5 2.5l-.94 2.06-2.06.94zm10 10l.94 2.06.94-2.06 2.06-.94-2.06-.94-.94-2.06-.94 2.06-2.06.94z\"/><path d=\"M17.41 7.96l-1.37-1.37c-.4-.4-.92-.59-1.43-.59-.52 0-1.04.2-1.43.59L10.3 9.45l-7.72 7.72c-.78.78-.78 2.05 0 2.83L4 21.41c.39.39.9.59 1.41.59.51 0 1.02-.2 1.41-.59l7.78-7.78 2.81-2.81c.8-.78.8-2.07 0-2.86zM5.41 20L4 18.59l7.72-7.72 1.47 1.35L5.41 20z\"/>\n",
              "  </svg>\n",
              "      </button>\n",
              "      \n",
              "  <style>\n",
              "    .colab-df-container {\n",
              "      display:flex;\n",
              "      flex-wrap:wrap;\n",
              "      gap: 12px;\n",
              "    }\n",
              "\n",
              "    .colab-df-convert {\n",
              "      background-color: #E8F0FE;\n",
              "      border: none;\n",
              "      border-radius: 50%;\n",
              "      cursor: pointer;\n",
              "      display: none;\n",
              "      fill: #1967D2;\n",
              "      height: 32px;\n",
              "      padding: 0 0 0 0;\n",
              "      width: 32px;\n",
              "    }\n",
              "\n",
              "    .colab-df-convert:hover {\n",
              "      background-color: #E2EBFA;\n",
              "      box-shadow: 0px 1px 2px rgba(60, 64, 67, 0.3), 0px 1px 3px 1px rgba(60, 64, 67, 0.15);\n",
              "      fill: #174EA6;\n",
              "    }\n",
              "\n",
              "    [theme=dark] .colab-df-convert {\n",
              "      background-color: #3B4455;\n",
              "      fill: #D2E3FC;\n",
              "    }\n",
              "\n",
              "    [theme=dark] .colab-df-convert:hover {\n",
              "      background-color: #434B5C;\n",
              "      box-shadow: 0px 1px 3px 1px rgba(0, 0, 0, 0.15);\n",
              "      filter: drop-shadow(0px 1px 2px rgba(0, 0, 0, 0.3));\n",
              "      fill: #FFFFFF;\n",
              "    }\n",
              "  </style>\n",
              "\n",
              "      <script>\n",
              "        const buttonEl =\n",
              "          document.querySelector('#df-58c1710b-8bb4-4d4a-abc4-7cafb7922953 button.colab-df-convert');\n",
              "        buttonEl.style.display =\n",
              "          google.colab.kernel.accessAllowed ? 'block' : 'none';\n",
              "\n",
              "        async function convertToInteractive(key) {\n",
              "          const element = document.querySelector('#df-58c1710b-8bb4-4d4a-abc4-7cafb7922953');\n",
              "          const dataTable =\n",
              "            await google.colab.kernel.invokeFunction('convertToInteractive',\n",
              "                                                     [key], {});\n",
              "          if (!dataTable) return;\n",
              "\n",
              "          const docLinkHtml = 'Like what you see? Visit the ' +\n",
              "            '<a target=\"_blank\" href=https://colab.research.google.com/notebooks/data_table.ipynb>data table notebook</a>'\n",
              "            + ' to learn more about interactive tables.';\n",
              "          element.innerHTML = '';\n",
              "          dataTable['output_type'] = 'display_data';\n",
              "          await google.colab.output.renderOutput(dataTable, element);\n",
              "          const docLink = document.createElement('div');\n",
              "          docLink.innerHTML = docLinkHtml;\n",
              "          element.appendChild(docLink);\n",
              "        }\n",
              "      </script>\n",
              "    </div>\n",
              "  </div>\n",
              "  "
            ],
            "text/plain": [
              "                                                      facility_name  ... efficient_use_of_medical_imaging_national_comparison\n",
              "facility_id year                                                     ...                                                     \n",
              "010001      2016                   SOUTHEAST ALABAMA MEDICAL CENTER  ...                       Same as the National average  \n",
              "            2017                   SOUTHEAST ALABAMA MEDICAL CENTER  ...                       Same as the national average  \n",
              "            2018                   SOUTHEAST ALABAMA MEDICAL CENTER  ...                       Same as the national average  \n",
              "            2019                   SOUTHEAST ALABAMA MEDICAL CENTER  ...                       Same as the national average  \n",
              "            2020                   SOUTHEAST ALABAMA MEDICAL CENTER  ...                       Same as the national average  \n",
              "...                                                             ...  ...                                                ...  \n",
              "670127      2020                              EL PASO LTAC HOSPTIAL  ...                                      Not Available  \n",
              "670128      2019  BAYLOR SCOTT & WHITE MEDICAL CENTER  PFLUGERVILLE  ...                                      Not Available  \n",
              "            2020   BAYLOR SCOTT & WHITE MEDICAL CENTER PFLUGERVILLE  ...                                      Not Available  \n",
              "670129      2020                               THE HEIGHTS HOSPITAL  ...                                      Not Available  \n",
              "670130      2020                                SOUTHCROSS HOSPITAL  ...                                      Not Available  \n",
              "\n",
              "[23928 rows x 17 columns]"
            ]
          },
          "metadata": {},
          "execution_count": 7
        }
      ]
    },
    {
      "cell_type": "markdown",
      "source": [
        "replacing all `\"Not Available\"` entries with `\"Nan\"` in the columns with object dtype\n"
      ],
      "metadata": {
        "id": "oQEnFHVP2rw7"
      }
    },
    {
      "cell_type": "code",
      "source": [
        "data[data.select_dtypes(\"object\").columns] = (data[data.select_dtypes(\"object\").columns]\n",
        "                                              .apply(lambda x: x.replace(\"Not Available\", \"Nan\"))\n",
        "                                              )"
      ],
      "metadata": {
        "id": "gmddo9em2WWy"
      },
      "execution_count": null,
      "outputs": []
    },
    {
      "cell_type": "code",
      "source": [
        "data.select_dtypes(\"object\")"
      ],
      "metadata": {
        "colab": {
          "base_uri": "https://localhost:8080/",
          "height": 1000
        },
        "id": "DUBMi0J8EO3r",
        "outputId": "495feab4-4e40-46c4-ceb8-3ef090a820f4"
      },
      "execution_count": null,
      "outputs": [
        {
          "output_type": "execute_result",
          "data": {
            "text/html": [
              "\n",
              "  <div id=\"df-bad94e94-2143-4158-9af9-11d9badda000\">\n",
              "    <div class=\"colab-df-container\">\n",
              "      <div>\n",
              "<style scoped>\n",
              "    .dataframe tbody tr th:only-of-type {\n",
              "        vertical-align: middle;\n",
              "    }\n",
              "\n",
              "    .dataframe tbody tr th {\n",
              "        vertical-align: top;\n",
              "    }\n",
              "\n",
              "    .dataframe thead th {\n",
              "        text-align: right;\n",
              "    }\n",
              "</style>\n",
              "<table border=\"1\" class=\"dataframe\">\n",
              "  <thead>\n",
              "    <tr style=\"text-align: right;\">\n",
              "      <th></th>\n",
              "      <th></th>\n",
              "      <th>facility_name</th>\n",
              "      <th>city</th>\n",
              "      <th>state</th>\n",
              "      <th>number_of_completed_surveys</th>\n",
              "      <th>survey_response_rate_percent</th>\n",
              "      <th>hospital_type</th>\n",
              "      <th>hospital_ownership</th>\n",
              "      <th>emergency_services</th>\n",
              "      <th>meets_criteria_for_promoting_interoperability_of_ehrs</th>\n",
              "      <th>hospital_overall_rating</th>\n",
              "      <th>mortality_national_comparison</th>\n",
              "      <th>safety_of_care_national_comparison</th>\n",
              "      <th>readmission_national_comparison</th>\n",
              "      <th>patient_experience_national_comparison</th>\n",
              "      <th>effectiveness_of_care_national_comparison</th>\n",
              "      <th>timeliness_of_care_national_comparison</th>\n",
              "      <th>efficient_use_of_medical_imaging_national_comparison</th>\n",
              "    </tr>\n",
              "    <tr>\n",
              "      <th>facility_id</th>\n",
              "      <th>year</th>\n",
              "      <th></th>\n",
              "      <th></th>\n",
              "      <th></th>\n",
              "      <th></th>\n",
              "      <th></th>\n",
              "      <th></th>\n",
              "      <th></th>\n",
              "      <th></th>\n",
              "      <th></th>\n",
              "      <th></th>\n",
              "      <th></th>\n",
              "      <th></th>\n",
              "      <th></th>\n",
              "      <th></th>\n",
              "      <th></th>\n",
              "      <th></th>\n",
              "      <th></th>\n",
              "    </tr>\n",
              "  </thead>\n",
              "  <tbody>\n",
              "    <tr>\n",
              "      <th rowspan=\"5\" valign=\"top\">010001</th>\n",
              "      <th>2016</th>\n",
              "      <td>SOUTHEAST ALABAMA MEDICAL CENTER</td>\n",
              "      <td>DOTHAN</td>\n",
              "      <td>AL</td>\n",
              "      <td>1213</td>\n",
              "      <td>27</td>\n",
              "      <td>Acute Care Hospitals</td>\n",
              "      <td>Government - Hospital District or Authority</td>\n",
              "      <td>Yes</td>\n",
              "      <td>Y</td>\n",
              "      <td>3</td>\n",
              "      <td>Same as the National average</td>\n",
              "      <td>Above the National average</td>\n",
              "      <td>Same as the National average</td>\n",
              "      <td>Below the National average</td>\n",
              "      <td>Same as the National average</td>\n",
              "      <td>Same as the National average</td>\n",
              "      <td>Same as the National average</td>\n",
              "    </tr>\n",
              "    <tr>\n",
              "      <th>2017</th>\n",
              "      <td>SOUTHEAST ALABAMA MEDICAL CENTER</td>\n",
              "      <td>DOTHAN</td>\n",
              "      <td>AL</td>\n",
              "      <td>1332</td>\n",
              "      <td>25</td>\n",
              "      <td>Acute Care Hospitals</td>\n",
              "      <td>Government - Hospital District or Authority</td>\n",
              "      <td>Yes</td>\n",
              "      <td>Y</td>\n",
              "      <td>3</td>\n",
              "      <td>Same as the national average</td>\n",
              "      <td>Above the national average</td>\n",
              "      <td>Same as the national average</td>\n",
              "      <td>Below the national average</td>\n",
              "      <td>Same as the national average</td>\n",
              "      <td>Same as the national average</td>\n",
              "      <td>Same as the national average</td>\n",
              "    </tr>\n",
              "    <tr>\n",
              "      <th>2018</th>\n",
              "      <td>SOUTHEAST ALABAMA MEDICAL CENTER</td>\n",
              "      <td>DOTHAN</td>\n",
              "      <td>AL</td>\n",
              "      <td>463</td>\n",
              "      <td>20</td>\n",
              "      <td>Acute Care Hospitals</td>\n",
              "      <td>Government - Hospital District or Authority</td>\n",
              "      <td>Yes</td>\n",
              "      <td>Y</td>\n",
              "      <td>3</td>\n",
              "      <td>Same as the national average</td>\n",
              "      <td>Above the national average</td>\n",
              "      <td>Below the national average</td>\n",
              "      <td>Below the national average</td>\n",
              "      <td>Same as the national average</td>\n",
              "      <td>Same as the national average</td>\n",
              "      <td>Same as the national average</td>\n",
              "    </tr>\n",
              "    <tr>\n",
              "      <th>2019</th>\n",
              "      <td>SOUTHEAST ALABAMA MEDICAL CENTER</td>\n",
              "      <td>DOTHAN</td>\n",
              "      <td>AL</td>\n",
              "      <td>558</td>\n",
              "      <td>23</td>\n",
              "      <td>Acute Care Hospitals</td>\n",
              "      <td>Government - Hospital District or Authority</td>\n",
              "      <td>Yes</td>\n",
              "      <td>Y</td>\n",
              "      <td>2</td>\n",
              "      <td>Below the national average</td>\n",
              "      <td>Above the national average</td>\n",
              "      <td>Below the national average</td>\n",
              "      <td>Below the national average</td>\n",
              "      <td>Same as the national average</td>\n",
              "      <td>Above the national average</td>\n",
              "      <td>Same as the national average</td>\n",
              "    </tr>\n",
              "    <tr>\n",
              "      <th>2020</th>\n",
              "      <td>SOUTHEAST ALABAMA MEDICAL CENTER</td>\n",
              "      <td>DOTHAN</td>\n",
              "      <td>AL</td>\n",
              "      <td>535</td>\n",
              "      <td>22</td>\n",
              "      <td>Acute Care Hospitals</td>\n",
              "      <td>Government - Hospital District or Authority</td>\n",
              "      <td>Yes</td>\n",
              "      <td>Y</td>\n",
              "      <td>2</td>\n",
              "      <td>Below the national average</td>\n",
              "      <td>Same as the national average</td>\n",
              "      <td>Below the national average</td>\n",
              "      <td>Below the national average</td>\n",
              "      <td>Same as the national average</td>\n",
              "      <td>Same as the national average</td>\n",
              "      <td>Same as the national average</td>\n",
              "    </tr>\n",
              "    <tr>\n",
              "      <th>...</th>\n",
              "      <th>...</th>\n",
              "      <td>...</td>\n",
              "      <td>...</td>\n",
              "      <td>...</td>\n",
              "      <td>...</td>\n",
              "      <td>...</td>\n",
              "      <td>...</td>\n",
              "      <td>...</td>\n",
              "      <td>...</td>\n",
              "      <td>...</td>\n",
              "      <td>...</td>\n",
              "      <td>...</td>\n",
              "      <td>...</td>\n",
              "      <td>...</td>\n",
              "      <td>...</td>\n",
              "      <td>...</td>\n",
              "      <td>...</td>\n",
              "      <td>...</td>\n",
              "    </tr>\n",
              "    <tr>\n",
              "      <th>670127</th>\n",
              "      <th>2020</th>\n",
              "      <td>EL PASO LTAC HOSPTIAL</td>\n",
              "      <td>EL PASO</td>\n",
              "      <td>TX</td>\n",
              "      <td>Nan</td>\n",
              "      <td>Nan</td>\n",
              "      <td>Acute Care Hospitals</td>\n",
              "      <td>Physician</td>\n",
              "      <td>No</td>\n",
              "      <td>NaN</td>\n",
              "      <td>Nan</td>\n",
              "      <td>Nan</td>\n",
              "      <td>Nan</td>\n",
              "      <td>Nan</td>\n",
              "      <td>Nan</td>\n",
              "      <td>Nan</td>\n",
              "      <td>Nan</td>\n",
              "      <td>Nan</td>\n",
              "    </tr>\n",
              "    <tr>\n",
              "      <th rowspan=\"2\" valign=\"top\">670128</th>\n",
              "      <th>2019</th>\n",
              "      <td>BAYLOR SCOTT &amp; WHITE MEDICAL CENTER  PFLUGERVILLE</td>\n",
              "      <td>PFLUGERVILLE</td>\n",
              "      <td>TX</td>\n",
              "      <td>Nan</td>\n",
              "      <td>Nan</td>\n",
              "      <td>Acute Care Hospitals</td>\n",
              "      <td>Voluntary non-profit - Private</td>\n",
              "      <td>Yes</td>\n",
              "      <td>NaN</td>\n",
              "      <td>Nan</td>\n",
              "      <td>Nan</td>\n",
              "      <td>Nan</td>\n",
              "      <td>Nan</td>\n",
              "      <td>Nan</td>\n",
              "      <td>Nan</td>\n",
              "      <td>Nan</td>\n",
              "      <td>Nan</td>\n",
              "    </tr>\n",
              "    <tr>\n",
              "      <th>2020</th>\n",
              "      <td>BAYLOR SCOTT &amp; WHITE MEDICAL CENTER PFLUGERVILLE</td>\n",
              "      <td>PFLUGERVILLE</td>\n",
              "      <td>TX</td>\n",
              "      <td>Nan</td>\n",
              "      <td>Nan</td>\n",
              "      <td>Acute Care Hospitals</td>\n",
              "      <td>Voluntary non-profit - Private</td>\n",
              "      <td>Yes</td>\n",
              "      <td>NaN</td>\n",
              "      <td>Nan</td>\n",
              "      <td>Nan</td>\n",
              "      <td>Nan</td>\n",
              "      <td>Nan</td>\n",
              "      <td>Nan</td>\n",
              "      <td>Nan</td>\n",
              "      <td>Nan</td>\n",
              "      <td>Nan</td>\n",
              "    </tr>\n",
              "    <tr>\n",
              "      <th>670129</th>\n",
              "      <th>2020</th>\n",
              "      <td>THE HEIGHTS HOSPITAL</td>\n",
              "      <td>HOUSTON</td>\n",
              "      <td>TX</td>\n",
              "      <td>Nan</td>\n",
              "      <td>Nan</td>\n",
              "      <td>Acute Care Hospitals</td>\n",
              "      <td>Proprietary</td>\n",
              "      <td>No</td>\n",
              "      <td>NaN</td>\n",
              "      <td>Nan</td>\n",
              "      <td>Nan</td>\n",
              "      <td>Nan</td>\n",
              "      <td>Nan</td>\n",
              "      <td>Nan</td>\n",
              "      <td>Nan</td>\n",
              "      <td>Nan</td>\n",
              "      <td>Nan</td>\n",
              "    </tr>\n",
              "    <tr>\n",
              "      <th>670130</th>\n",
              "      <th>2020</th>\n",
              "      <td>SOUTHCROSS HOSPITAL</td>\n",
              "      <td>SAN ANTONIO</td>\n",
              "      <td>TX</td>\n",
              "      <td>Nan</td>\n",
              "      <td>Nan</td>\n",
              "      <td>Acute Care Hospitals</td>\n",
              "      <td>Proprietary</td>\n",
              "      <td>Yes</td>\n",
              "      <td>NaN</td>\n",
              "      <td>Nan</td>\n",
              "      <td>Nan</td>\n",
              "      <td>Nan</td>\n",
              "      <td>Nan</td>\n",
              "      <td>Nan</td>\n",
              "      <td>Nan</td>\n",
              "      <td>Nan</td>\n",
              "      <td>Nan</td>\n",
              "    </tr>\n",
              "  </tbody>\n",
              "</table>\n",
              "<p>23928 rows × 17 columns</p>\n",
              "</div>\n",
              "      <button class=\"colab-df-convert\" onclick=\"convertToInteractive('df-bad94e94-2143-4158-9af9-11d9badda000')\"\n",
              "              title=\"Convert this dataframe to an interactive table.\"\n",
              "              style=\"display:none;\">\n",
              "        \n",
              "  <svg xmlns=\"http://www.w3.org/2000/svg\" height=\"24px\"viewBox=\"0 0 24 24\"\n",
              "       width=\"24px\">\n",
              "    <path d=\"M0 0h24v24H0V0z\" fill=\"none\"/>\n",
              "    <path d=\"M18.56 5.44l.94 2.06.94-2.06 2.06-.94-2.06-.94-.94-2.06-.94 2.06-2.06.94zm-11 1L8.5 8.5l.94-2.06 2.06-.94-2.06-.94L8.5 2.5l-.94 2.06-2.06.94zm10 10l.94 2.06.94-2.06 2.06-.94-2.06-.94-.94-2.06-.94 2.06-2.06.94z\"/><path d=\"M17.41 7.96l-1.37-1.37c-.4-.4-.92-.59-1.43-.59-.52 0-1.04.2-1.43.59L10.3 9.45l-7.72 7.72c-.78.78-.78 2.05 0 2.83L4 21.41c.39.39.9.59 1.41.59.51 0 1.02-.2 1.41-.59l7.78-7.78 2.81-2.81c.8-.78.8-2.07 0-2.86zM5.41 20L4 18.59l7.72-7.72 1.47 1.35L5.41 20z\"/>\n",
              "  </svg>\n",
              "      </button>\n",
              "      \n",
              "  <style>\n",
              "    .colab-df-container {\n",
              "      display:flex;\n",
              "      flex-wrap:wrap;\n",
              "      gap: 12px;\n",
              "    }\n",
              "\n",
              "    .colab-df-convert {\n",
              "      background-color: #E8F0FE;\n",
              "      border: none;\n",
              "      border-radius: 50%;\n",
              "      cursor: pointer;\n",
              "      display: none;\n",
              "      fill: #1967D2;\n",
              "      height: 32px;\n",
              "      padding: 0 0 0 0;\n",
              "      width: 32px;\n",
              "    }\n",
              "\n",
              "    .colab-df-convert:hover {\n",
              "      background-color: #E2EBFA;\n",
              "      box-shadow: 0px 1px 2px rgba(60, 64, 67, 0.3), 0px 1px 3px 1px rgba(60, 64, 67, 0.15);\n",
              "      fill: #174EA6;\n",
              "    }\n",
              "\n",
              "    [theme=dark] .colab-df-convert {\n",
              "      background-color: #3B4455;\n",
              "      fill: #D2E3FC;\n",
              "    }\n",
              "\n",
              "    [theme=dark] .colab-df-convert:hover {\n",
              "      background-color: #434B5C;\n",
              "      box-shadow: 0px 1px 3px 1px rgba(0, 0, 0, 0.15);\n",
              "      filter: drop-shadow(0px 1px 2px rgba(0, 0, 0, 0.3));\n",
              "      fill: #FFFFFF;\n",
              "    }\n",
              "  </style>\n",
              "\n",
              "      <script>\n",
              "        const buttonEl =\n",
              "          document.querySelector('#df-bad94e94-2143-4158-9af9-11d9badda000 button.colab-df-convert');\n",
              "        buttonEl.style.display =\n",
              "          google.colab.kernel.accessAllowed ? 'block' : 'none';\n",
              "\n",
              "        async function convertToInteractive(key) {\n",
              "          const element = document.querySelector('#df-bad94e94-2143-4158-9af9-11d9badda000');\n",
              "          const dataTable =\n",
              "            await google.colab.kernel.invokeFunction('convertToInteractive',\n",
              "                                                     [key], {});\n",
              "          if (!dataTable) return;\n",
              "\n",
              "          const docLinkHtml = 'Like what you see? Visit the ' +\n",
              "            '<a target=\"_blank\" href=https://colab.research.google.com/notebooks/data_table.ipynb>data table notebook</a>'\n",
              "            + ' to learn more about interactive tables.';\n",
              "          element.innerHTML = '';\n",
              "          dataTable['output_type'] = 'display_data';\n",
              "          await google.colab.output.renderOutput(dataTable, element);\n",
              "          const docLink = document.createElement('div');\n",
              "          docLink.innerHTML = docLinkHtml;\n",
              "          element.appendChild(docLink);\n",
              "        }\n",
              "      </script>\n",
              "    </div>\n",
              "  </div>\n",
              "  "
            ],
            "text/plain": [
              "                                                      facility_name  ... efficient_use_of_medical_imaging_national_comparison\n",
              "facility_id year                                                     ...                                                     \n",
              "010001      2016                   SOUTHEAST ALABAMA MEDICAL CENTER  ...                       Same as the National average  \n",
              "            2017                   SOUTHEAST ALABAMA MEDICAL CENTER  ...                       Same as the national average  \n",
              "            2018                   SOUTHEAST ALABAMA MEDICAL CENTER  ...                       Same as the national average  \n",
              "            2019                   SOUTHEAST ALABAMA MEDICAL CENTER  ...                       Same as the national average  \n",
              "            2020                   SOUTHEAST ALABAMA MEDICAL CENTER  ...                       Same as the national average  \n",
              "...                                                             ...  ...                                                ...  \n",
              "670127      2020                              EL PASO LTAC HOSPTIAL  ...                                                Nan  \n",
              "670128      2019  BAYLOR SCOTT & WHITE MEDICAL CENTER  PFLUGERVILLE  ...                                                Nan  \n",
              "            2020   BAYLOR SCOTT & WHITE MEDICAL CENTER PFLUGERVILLE  ...                                                Nan  \n",
              "670129      2020                               THE HEIGHTS HOSPITAL  ...                                                Nan  \n",
              "670130      2020                                SOUTHCROSS HOSPITAL  ...                                                Nan  \n",
              "\n",
              "[23928 rows x 17 columns]"
            ]
          },
          "metadata": {},
          "execution_count": 9
        }
      ]
    },
    {
      "cell_type": "markdown",
      "source": [
        "`number_of_completed_surveys, survey_response_rate_percent` and `hospital_overall_rating` should be integers."
      ],
      "metadata": {
        "id": "OeZo2eZW1PSq"
      }
    },
    {
      "cell_type": "code",
      "source": [
        "for i in [\"number_of_completed_surveys\", \"survey_response_rate_percent\", \"hospital_overall_rating\"]:\n",
        "    print(sorted(data[i].unique())[-10:])"
      ],
      "metadata": {
        "colab": {
          "base_uri": "https://localhost:8080/"
        },
        "id": "7oBCHZa_1O7v",
        "outputId": "619c2d36-5bc2-4d73-b16c-e13c7b3839a4"
      },
      "execution_count": null,
      "outputs": [
        {
          "output_type": "stream",
          "name": "stdout",
          "text": [
            "['992', '993', '994', '995', '996', '997', '998', '999', 'FEWER THAN 50', 'Nan']\n",
            "['75', '77', '8', '82', '84', '85', '87', '89', '9', 'Nan']\n",
            "['1', '2', '3', '4', '5', 'Nan']\n"
          ]
        }
      ]
    },
    {
      "cell_type": "code",
      "source": [
        "data.number_of_completed_surveys = data.number_of_completed_surveys.apply(lambda x: x.replace(\"FEWER THAN 50\", \"49\"))"
      ],
      "metadata": {
        "id": "wfKR29-4BGIH"
      },
      "execution_count": null,
      "outputs": []
    },
    {
      "cell_type": "code",
      "source": [
        "data[[\"number_of_completed_surveys\", \"survey_response_rate_percent\", \"hospital_overall_rating\"]] = \\\n",
        "    data[[\"number_of_completed_surveys\", \"survey_response_rate_percent\", \"hospital_overall_rating\"]].astype(\"float\")\n",
        "\n",
        "data[[\"number_of_completed_surveys\", \"survey_response_rate_percent\", \"hospital_overall_rating\"]].dtypes"
      ],
      "metadata": {
        "colab": {
          "base_uri": "https://localhost:8080/"
        },
        "id": "eg3uXaWQDKVv",
        "outputId": "6bdfe489-2a0f-482e-a4d2-e7d61b65b763"
      },
      "execution_count": null,
      "outputs": [
        {
          "output_type": "execute_result",
          "data": {
            "text/plain": [
              "number_of_completed_surveys     float64\n",
              "survey_response_rate_percent    float64\n",
              "hospital_overall_rating         float64\n",
              "dtype: object"
            ]
          },
          "metadata": {},
          "execution_count": 12
        }
      ]
    },
    {
      "cell_type": "markdown",
      "source": [
        "checking unique values in some columns to determine how to encode"
      ],
      "metadata": {
        "id": "PJWcj8MtE6iS"
      }
    },
    {
      "cell_type": "code",
      "source": [
        "data.select_dtypes(\"object\").columns"
      ],
      "metadata": {
        "colab": {
          "base_uri": "https://localhost:8080/"
        },
        "id": "bxKziovqFKW8",
        "outputId": "50c5a64d-6cba-4f40-dac9-bbbad0728b5f"
      },
      "execution_count": null,
      "outputs": [
        {
          "output_type": "execute_result",
          "data": {
            "text/plain": [
              "Index(['facility_name', 'city', 'state', 'hospital_type', 'hospital_ownership',\n",
              "       'emergency_services',\n",
              "       'meets_criteria_for_promoting_interoperability_of_ehrs',\n",
              "       'mortality_national_comparison', 'safety_of_care_national_comparison',\n",
              "       'readmission_national_comparison',\n",
              "       'patient_experience_national_comparison',\n",
              "       'effectiveness_of_care_national_comparison',\n",
              "       'timeliness_of_care_national_comparison',\n",
              "       'efficient_use_of_medical_imaging_national_comparison'],\n",
              "      dtype='object')"
            ]
          },
          "metadata": {},
          "execution_count": 13
        }
      ]
    },
    {
      "cell_type": "code",
      "source": [
        "cols = ['hospital_type', 'hospital_ownership', 'emergency_services',\n",
        "'meets_criteria_for_promoting_interoperability_of_ehrs', 'mortality_national_comparison',\n",
        "'safety_of_care_national_comparison', 'readmission_national_comparison',\n",
        "'patient_experience_national_comparison', 'effectiveness_of_care_national_comparison',\n",
        "'timeliness_of_care_national_comparison', 'efficient_use_of_medical_imaging_national_comparison']"
      ],
      "metadata": {
        "id": "a0fyC5YvGtFG"
      },
      "execution_count": null,
      "outputs": []
    },
    {
      "cell_type": "code",
      "source": [
        "for i in cols:\n",
        "    print(f\"{i:20} ==> {data[i].nunique()} ==> {data[i].unique()[-10:]}\\n\\n\")"
      ],
      "metadata": {
        "colab": {
          "base_uri": "https://localhost:8080/"
        },
        "id": "PvdVRTXiFKS9",
        "outputId": "7b3f21d3-c5a6-4155-ab92-00312382ddbf"
      },
      "execution_count": null,
      "outputs": [
        {
          "output_type": "stream",
          "name": "stdout",
          "text": [
            "hospital_type        ==> 4 ==> ['Acute Care Hospitals' 'Critical Access Hospitals' 'Childrens'\n",
            " 'Acute Care - Department of Defense']\n",
            "\n",
            "\n",
            "hospital_ownership   ==> 11 ==> ['Proprietary' 'Voluntary non-profit - Private' 'Government - State'\n",
            " 'Voluntary non-profit - Other' 'Government - Local'\n",
            " 'Voluntary non-profit - Church' 'Government - Federal' 'Tribal'\n",
            " 'Department of Defense' 'Physician']\n",
            "\n",
            "\n",
            "emergency_services   ==> 2 ==> ['Yes' 'No']\n",
            "\n",
            "\n",
            "meets_criteria_for_promoting_interoperability_of_ehrs ==> 2 ==> ['Y' nan 'Nan']\n",
            "\n",
            "\n",
            "mortality_national_comparison ==> 7 ==> ['Same as the National average' 'Same as the national average'\n",
            " 'Below the national average' 'Below the National average' 'Nan'\n",
            " 'Above the national average' 'Above the National average']\n",
            "\n",
            "\n",
            "safety_of_care_national_comparison ==> 7 ==> ['Above the National average' 'Above the national average'\n",
            " 'Same as the national average' 'Same as the National average'\n",
            " 'Below the national average' 'Nan' 'Below the National average']\n",
            "\n",
            "\n",
            "readmission_national_comparison ==> 7 ==> ['Same as the National average' 'Same as the national average'\n",
            " 'Below the national average' 'Above the National average'\n",
            " 'Above the national average' 'Below the National average' 'Nan']\n",
            "\n",
            "\n",
            "patient_experience_national_comparison ==> 7 ==> ['Below the National average' 'Below the national average'\n",
            " 'Same as the National average' 'Same as the national average' 'Nan'\n",
            " 'Above the National average' 'Above the national average']\n",
            "\n",
            "\n",
            "effectiveness_of_care_national_comparison ==> 7 ==> ['Same as the National average' 'Same as the national average'\n",
            " 'Above the national average' 'Below the National average'\n",
            " 'Below the national average' 'Nan' 'Above the National average']\n",
            "\n",
            "\n",
            "timeliness_of_care_national_comparison ==> 7 ==> ['Same as the National average' 'Same as the national average'\n",
            " 'Above the national average' 'Above the National average'\n",
            " 'Below the national average' 'Below the National average' 'Nan']\n",
            "\n",
            "\n",
            "efficient_use_of_medical_imaging_national_comparison ==> 7 ==> ['Same as the National average' 'Same as the national average'\n",
            " 'Below the National average' 'Below the national average' 'Nan'\n",
            " 'Above the National average' 'Above the national average']\n",
            "\n",
            "\n"
          ]
        }
      ]
    },
    {
      "cell_type": "markdown",
      "source": [
        "noticed some strings are the except for string format issues. normalize all strings to get a better result"
      ],
      "metadata": {
        "id": "FTz3y72WItuU"
      }
    },
    {
      "cell_type": "code",
      "source": [
        "data[data.select_dtypes(\"object\").columns] = (data[data.select_dtypes(\"object\").columns]\n",
        "                                              .apply(lambda x: x.str.lower().str.strip())\n",
        "                                              )"
      ],
      "metadata": {
        "id": "ZPlCY0iHFKNv"
      },
      "execution_count": null,
      "outputs": []
    },
    {
      "cell_type": "code",
      "source": [
        "for i in cols:\n",
        "    print(f\"{i:20} ==> {data[i].nunique()} ==> {data[i].unique()[-10:]}\\n\\n\")"
      ],
      "metadata": {
        "colab": {
          "base_uri": "https://localhost:8080/"
        },
        "id": "GAcy0XEyFKLN",
        "outputId": "099473be-8cee-4a8d-af95-c873599401ca"
      },
      "execution_count": null,
      "outputs": [
        {
          "output_type": "stream",
          "name": "stdout",
          "text": [
            "hospital_type        ==> 4 ==> ['acute care hospitals' 'critical access hospitals' 'childrens'\n",
            " 'acute care - department of defense']\n",
            "\n",
            "\n",
            "hospital_ownership   ==> 11 ==> ['proprietary' 'voluntary non-profit - private' 'government - state'\n",
            " 'voluntary non-profit - other' 'government - local'\n",
            " 'voluntary non-profit - church' 'government - federal' 'tribal'\n",
            " 'department of defense' 'physician']\n",
            "\n",
            "\n",
            "emergency_services   ==> 2 ==> ['yes' 'no']\n",
            "\n",
            "\n",
            "meets_criteria_for_promoting_interoperability_of_ehrs ==> 2 ==> ['y' nan 'nan']\n",
            "\n",
            "\n",
            "mortality_national_comparison ==> 4 ==> ['same as the national average' 'below the national average' 'nan'\n",
            " 'above the national average']\n",
            "\n",
            "\n",
            "safety_of_care_national_comparison ==> 4 ==> ['above the national average' 'same as the national average'\n",
            " 'below the national average' 'nan']\n",
            "\n",
            "\n",
            "readmission_national_comparison ==> 4 ==> ['same as the national average' 'below the national average'\n",
            " 'above the national average' 'nan']\n",
            "\n",
            "\n",
            "patient_experience_national_comparison ==> 4 ==> ['below the national average' 'same as the national average' 'nan'\n",
            " 'above the national average']\n",
            "\n",
            "\n",
            "effectiveness_of_care_national_comparison ==> 4 ==> ['same as the national average' 'above the national average'\n",
            " 'below the national average' 'nan']\n",
            "\n",
            "\n",
            "timeliness_of_care_national_comparison ==> 4 ==> ['same as the national average' 'above the national average'\n",
            " 'below the national average' 'nan']\n",
            "\n",
            "\n",
            "efficient_use_of_medical_imaging_national_comparison ==> 4 ==> ['same as the national average' 'below the national average' 'nan'\n",
            " 'above the national average']\n",
            "\n",
            "\n"
          ]
        }
      ]
    },
    {
      "cell_type": "code",
      "source": [
        "national_comparison_cols = ['mortality_national_comparison',\n",
        "            'safety_of_care_national_comparison', 'readmission_national_comparison',\n",
        "            'patient_experience_national_comparison', 'effectiveness_of_care_national_comparison',\n",
        "            'timeliness_of_care_national_comparison',\n",
        "            'efficient_use_of_medical_imaging_national_comparison'\n",
        "            ]"
      ],
      "metadata": {
        "id": "uJF0Mp0ZFKJp"
      },
      "execution_count": null,
      "outputs": []
    },
    {
      "cell_type": "code",
      "source": [
        "national_comparison_map = {'below the national average' : 0,\n",
        "                           'same as the national average' : 1,\n",
        "                           'above the national average' : 2,\n",
        "                           'nan' : np.nan\n",
        "                           }"
      ],
      "metadata": {
        "id": "XiJ38NPcKVKQ"
      },
      "execution_count": null,
      "outputs": []
    },
    {
      "cell_type": "code",
      "source": [
        "data[national_comparison_cols] = data[national_comparison_cols].replace(national_comparison_map).astype(\"float\")"
      ],
      "metadata": {
        "id": "XzBkxu2fDiv8"
      },
      "execution_count": null,
      "outputs": []
    },
    {
      "cell_type": "markdown",
      "source": [
        "```\n",
        "hospital_type        ==> 4 ==> ['acute care hospitals' 'critical access hospitals' 'childrens'\n",
        " 'acute care - department of defense']\n",
        "\n",
        "\n",
        "hospital_ownership   ==> 11 ==> ['proprietary' 'voluntary non-profit - private' 'government - state'\n",
        " 'voluntary non-profit - other' 'government - local'\n",
        " 'voluntary non-profit - church' 'government - federal' 'tribal'\n",
        " 'department of defense' 'physician']\n",
        "\n",
        "\n",
        "emergency_services   ==> 2 ==> ['yes' 'no']\n",
        "\n",
        "\n",
        "meets_criteria_for_promoting_interoperability_of_ehrs ==> 2 ==> ['y' nan 'nan']\n",
        "```"
      ],
      "metadata": {
        "id": "3GHzBgK1NZ-i"
      }
    },
    {
      "cell_type": "code",
      "source": [
        "hospital_type_map = {'acute care hospitals' : 0,\n",
        "                     'critical access hospitals' : 2,\n",
        "                     'childrens' : 1,\n",
        "                     'acute care - department of defense' : 0}\n",
        "\n",
        "data.hospital_type = data.hospital_type.replace(hospital_type_map).astype(\"int\")"
      ],
      "metadata": {
        "id": "-Qiupi7pMMGa"
      },
      "execution_count": null,
      "outputs": []
    },
    {
      "cell_type": "code",
      "source": [
        "data.emergency_services = data.emergency_services.replace( {\"yes\" : 1,\n",
        "                                                            \"no\" : 0} )\n",
        "\n",
        "data.meets_criteria_for_promoting_interoperability_of_ehrs  = \\\n",
        "                (data.meets_criteria_for_promoting_interoperability_of_ehrs\n",
        "                    .replace( {\"y\" : 1, \"nan\" : 0, np.nan : 0} )\n",
        "                    .astype(\"int\")\n",
        "                    )"
      ],
      "metadata": {
        "id": "9bmDDuwCODOU"
      },
      "execution_count": null,
      "outputs": []
    },
    {
      "cell_type": "markdown",
      "source": [
        "`hospital_ownership` won't be used in developing a model as it could add bias to the model. The model could pick up the trend of how different kinds of `hospital ownership` affect their rating and place some weight on it"
      ],
      "metadata": {
        "id": "-DjOnfP7QFBl"
      }
    },
    {
      "cell_type": "code",
      "source": [
        "data.info()"
      ],
      "metadata": {
        "colab": {
          "base_uri": "https://localhost:8080/"
        },
        "id": "ECB6l4H3ML78",
        "outputId": "a7ad3d67-41e6-4a1b-9ee6-801f61318852"
      },
      "execution_count": null,
      "outputs": [
        {
          "output_type": "stream",
          "name": "stdout",
          "text": [
            "<class 'pandas.core.frame.DataFrame'>\n",
            "MultiIndex: 23928 entries, ('010001', 2016) to ('670130', 2020)\n",
            "Data columns (total 40 columns):\n",
            " #   Column                                                 Non-Null Count  Dtype  \n",
            "---  ------                                                 --------------  -----  \n",
            " 0   facility_name                                          23928 non-null  object \n",
            " 1   city                                                   23928 non-null  object \n",
            " 2   state                                                  23928 non-null  object \n",
            " 3   number_of_completed_surveys                            20530 non-null  float64\n",
            " 4   survey_response_rate_percent                           20530 non-null  float64\n",
            " 5   hospital_type                                          23928 non-null  int64  \n",
            " 6   hospital_ownership                                     23928 non-null  object \n",
            " 7   emergency_services                                     23928 non-null  int64  \n",
            " 8   meets_criteria_for_promoting_interoperability_of_ehrs  23928 non-null  int64  \n",
            " 9   hospital_overall_rating                                18093 non-null  float64\n",
            " 10  mortality_national_comparison                          17086 non-null  float64\n",
            " 11  safety_of_care_national_comparison                     13166 non-null  float64\n",
            " 12  readmission_national_comparison                        19064 non-null  float64\n",
            " 13  patient_experience_national_comparison                 17146 non-null  float64\n",
            " 14  effectiveness_of_care_national_comparison              18045 non-null  float64\n",
            " 15  timeliness_of_care_national_comparison                 18358 non-null  float64\n",
            " 16  efficient_use_of_medical_imaging_national_comparison   14588 non-null  float64\n",
            " 17  summary_star_rating                                    17183 non-null  float64\n",
            " 18  nurse_communication_-_linear_mean_score                17183 non-null  float64\n",
            " 19  cleanliness_-_linear_mean_score                        17183 non-null  float64\n",
            " 20  cleanliness_-_star_rating                              17183 non-null  float64\n",
            " 21  nurse_communication_-_star_rating                      17183 non-null  float64\n",
            " 22  doctor_communication_-_linear_mean_score               17183 non-null  float64\n",
            " 23  doctor_communication_-_star_rating                     17183 non-null  float64\n",
            " 24  staff_responsiveness_-_linear_mean_score               17183 non-null  float64\n",
            " 25  staff_responsiveness_-_star_rating                     17183 non-null  float64\n",
            " 26  pain_management_-_linear_mean_score                    6988 non-null   float64\n",
            " 27  pain_management_-_star_rating                          6988 non-null   float64\n",
            " 28  communication_about_medicines_-_linear_mean_score      17183 non-null  float64\n",
            " 29  communication_about_medicines_-_star_rating            17183 non-null  float64\n",
            " 30  discharge_information_-_linear_mean_score              17183 non-null  float64\n",
            " 31  discharge_information_-_star_rating                    17183 non-null  float64\n",
            " 32  care_transition_-_linear_mean_score                    17183 non-null  float64\n",
            " 33  care_transition_-_star_rating                          17183 non-null  float64\n",
            " 34  overall_hospital_rating_-_linear_mean_score            17183 non-null  float64\n",
            " 35  overall_hospital_rating_-_star_rating                  17183 non-null  float64\n",
            " 36  quietness_-_linear_mean_score                          17183 non-null  float64\n",
            " 37  quietness_-_star_rating                                17183 non-null  float64\n",
            " 38  recommend_hospital_-_linear_mean_score                 17183 non-null  float64\n",
            " 39  recommend_hospital_-_star_rating                       17183 non-null  float64\n",
            "dtypes: float64(33), int64(3), object(4)\n",
            "memory usage: 7.5+ MB\n"
          ]
        }
      ]
    },
    {
      "cell_type": "code",
      "source": [
        ""
      ],
      "metadata": {
        "id": "qf9bv_tHz4ZR"
      },
      "execution_count": null,
      "outputs": []
    },
    {
      "cell_type": "markdown",
      "source": [
        "drop all rows that has `np.nan` in the `hospital_overall_rating` column"
      ],
      "metadata": {
        "id": "kulCAAkFueQQ"
      }
    },
    {
      "cell_type": "code",
      "source": [
        "valid_ind = data.hospital_overall_rating[data.hospital_overall_rating.notna()].index"
      ],
      "metadata": {
        "id": "Eb7oQQO3uPzY"
      },
      "execution_count": null,
      "outputs": []
    },
    {
      "cell_type": "code",
      "source": [
        "data = data.loc[valid_ind]"
      ],
      "metadata": {
        "id": "9vMoCqyzuPVQ"
      },
      "execution_count": null,
      "outputs": []
    },
    {
      "cell_type": "markdown",
      "source": [
        "Drop `pain_management_-_linear_mean_score` and `pain_management_-_star_rating` columns because of their excessive `np.nan` entries\n"
      ],
      "metadata": {
        "id": "IpilEuQt2LJ9"
      }
    },
    {
      "cell_type": "code",
      "source": [
        "data = data.drop(columns=[\"pain_management_-_linear_mean_score\", \"pain_management_-_star_rating\"])"
      ],
      "metadata": {
        "id": "bk7u62Dk2e6x"
      },
      "execution_count": null,
      "outputs": []
    },
    {
      "cell_type": "code",
      "source": [
        "data.hospital_type.value_counts()"
      ],
      "metadata": {
        "colab": {
          "base_uri": "https://localhost:8080/"
        },
        "id": "nmPJzk7LEV35",
        "outputId": "f44aa80b-070a-493f-cd2b-44f9d27a7f92"
      },
      "execution_count": null,
      "outputs": [
        {
          "output_type": "execute_result",
          "data": {
            "text/plain": [
              "0    14899\n",
              "2     3194\n",
              "Name: hospital_type, dtype: int64"
            ]
          },
          "metadata": {},
          "execution_count": 27
        }
      ]
    },
    {
      "cell_type": "code",
      "source": [
        "data.info()"
      ],
      "metadata": {
        "colab": {
          "base_uri": "https://localhost:8080/"
        },
        "id": "ghc76Xdu2420",
        "outputId": "d16fbcf7-ac84-41fe-8ca7-dafa179ca6ca"
      },
      "execution_count": null,
      "outputs": [
        {
          "output_type": "stream",
          "name": "stdout",
          "text": [
            "<class 'pandas.core.frame.DataFrame'>\n",
            "MultiIndex: 18093 entries, ('010001', 2016) to ('670122', 2020)\n",
            "Data columns (total 38 columns):\n",
            " #   Column                                                 Non-Null Count  Dtype  \n",
            "---  ------                                                 --------------  -----  \n",
            " 0   facility_name                                          18093 non-null  object \n",
            " 1   city                                                   18093 non-null  object \n",
            " 2   state                                                  18093 non-null  object \n",
            " 3   number_of_completed_surveys                            17786 non-null  float64\n",
            " 4   survey_response_rate_percent                           17786 non-null  float64\n",
            " 5   hospital_type                                          18093 non-null  int64  \n",
            " 6   hospital_ownership                                     18093 non-null  object \n",
            " 7   emergency_services                                     18093 non-null  int64  \n",
            " 8   meets_criteria_for_promoting_interoperability_of_ehrs  18093 non-null  int64  \n",
            " 9   hospital_overall_rating                                18093 non-null  float64\n",
            " 10  mortality_national_comparison                          16602 non-null  float64\n",
            " 11  safety_of_care_national_comparison                     13122 non-null  float64\n",
            " 12  readmission_national_comparison                        17823 non-null  float64\n",
            " 13  patient_experience_national_comparison                 16433 non-null  float64\n",
            " 14  effectiveness_of_care_national_comparison              16923 non-null  float64\n",
            " 15  timeliness_of_care_national_comparison                 16922 non-null  float64\n",
            " 16  efficient_use_of_medical_imaging_national_comparison   14305 non-null  float64\n",
            " 17  summary_star_rating                                    16280 non-null  float64\n",
            " 18  nurse_communication_-_linear_mean_score                16280 non-null  float64\n",
            " 19  cleanliness_-_linear_mean_score                        16280 non-null  float64\n",
            " 20  cleanliness_-_star_rating                              16280 non-null  float64\n",
            " 21  nurse_communication_-_star_rating                      16280 non-null  float64\n",
            " 22  doctor_communication_-_linear_mean_score               16280 non-null  float64\n",
            " 23  doctor_communication_-_star_rating                     16280 non-null  float64\n",
            " 24  staff_responsiveness_-_linear_mean_score               16280 non-null  float64\n",
            " 25  staff_responsiveness_-_star_rating                     16280 non-null  float64\n",
            " 26  communication_about_medicines_-_linear_mean_score      16280 non-null  float64\n",
            " 27  communication_about_medicines_-_star_rating            16280 non-null  float64\n",
            " 28  discharge_information_-_linear_mean_score              16280 non-null  float64\n",
            " 29  discharge_information_-_star_rating                    16280 non-null  float64\n",
            " 30  care_transition_-_linear_mean_score                    16280 non-null  float64\n",
            " 31  care_transition_-_star_rating                          16280 non-null  float64\n",
            " 32  overall_hospital_rating_-_linear_mean_score            16280 non-null  float64\n",
            " 33  overall_hospital_rating_-_star_rating                  16280 non-null  float64\n",
            " 34  quietness_-_linear_mean_score                          16280 non-null  float64\n",
            " 35  quietness_-_star_rating                                16280 non-null  float64\n",
            " 36  recommend_hospital_-_linear_mean_score                 16280 non-null  float64\n",
            " 37  recommend_hospital_-_star_rating                       16280 non-null  float64\n",
            "dtypes: float64(31), int64(3), object(4)\n",
            "memory usage: 5.5+ MB\n"
          ]
        }
      ]
    },
    {
      "cell_type": "markdown",
      "source": [
        "Fill the `np.nan` in the ratings columns with `0`"
      ],
      "metadata": {
        "id": "XseiAbtn42Kc"
      }
    },
    {
      "cell_type": "code",
      "source": [
        "ratings_cols = [i for i in data.columns if \"linear_mean_score\" in i] + [i for i in data.columns if \"star_rating\" in i]"
      ],
      "metadata": {
        "id": "tM5ZtJqU4_Bz"
      },
      "execution_count": null,
      "outputs": []
    },
    {
      "cell_type": "code",
      "source": [
        "data[ratings_cols] = data[ratings_cols].fillna(0)"
      ],
      "metadata": {
        "id": "20AM6T1i5X4l"
      },
      "execution_count": null,
      "outputs": []
    },
    {
      "cell_type": "code",
      "source": [
        "data.info()"
      ],
      "metadata": {
        "colab": {
          "base_uri": "https://localhost:8080/"
        },
        "id": "JhA6mtkU5h7k",
        "outputId": "1dceb666-de3e-4ce9-90bf-ab77300c75f3"
      },
      "execution_count": null,
      "outputs": [
        {
          "output_type": "stream",
          "name": "stdout",
          "text": [
            "<class 'pandas.core.frame.DataFrame'>\n",
            "MultiIndex: 18093 entries, ('010001', 2016) to ('670122', 2020)\n",
            "Data columns (total 38 columns):\n",
            " #   Column                                                 Non-Null Count  Dtype  \n",
            "---  ------                                                 --------------  -----  \n",
            " 0   facility_name                                          18093 non-null  object \n",
            " 1   city                                                   18093 non-null  object \n",
            " 2   state                                                  18093 non-null  object \n",
            " 3   number_of_completed_surveys                            17786 non-null  float64\n",
            " 4   survey_response_rate_percent                           17786 non-null  float64\n",
            " 5   hospital_type                                          18093 non-null  int64  \n",
            " 6   hospital_ownership                                     18093 non-null  object \n",
            " 7   emergency_services                                     18093 non-null  int64  \n",
            " 8   meets_criteria_for_promoting_interoperability_of_ehrs  18093 non-null  int64  \n",
            " 9   hospital_overall_rating                                18093 non-null  float64\n",
            " 10  mortality_national_comparison                          16602 non-null  float64\n",
            " 11  safety_of_care_national_comparison                     13122 non-null  float64\n",
            " 12  readmission_national_comparison                        17823 non-null  float64\n",
            " 13  patient_experience_national_comparison                 16433 non-null  float64\n",
            " 14  effectiveness_of_care_national_comparison              16923 non-null  float64\n",
            " 15  timeliness_of_care_national_comparison                 16922 non-null  float64\n",
            " 16  efficient_use_of_medical_imaging_national_comparison   14305 non-null  float64\n",
            " 17  summary_star_rating                                    18093 non-null  float64\n",
            " 18  nurse_communication_-_linear_mean_score                18093 non-null  float64\n",
            " 19  cleanliness_-_linear_mean_score                        18093 non-null  float64\n",
            " 20  cleanliness_-_star_rating                              18093 non-null  float64\n",
            " 21  nurse_communication_-_star_rating                      18093 non-null  float64\n",
            " 22  doctor_communication_-_linear_mean_score               18093 non-null  float64\n",
            " 23  doctor_communication_-_star_rating                     18093 non-null  float64\n",
            " 24  staff_responsiveness_-_linear_mean_score               18093 non-null  float64\n",
            " 25  staff_responsiveness_-_star_rating                     18093 non-null  float64\n",
            " 26  communication_about_medicines_-_linear_mean_score      18093 non-null  float64\n",
            " 27  communication_about_medicines_-_star_rating            18093 non-null  float64\n",
            " 28  discharge_information_-_linear_mean_score              18093 non-null  float64\n",
            " 29  discharge_information_-_star_rating                    18093 non-null  float64\n",
            " 30  care_transition_-_linear_mean_score                    18093 non-null  float64\n",
            " 31  care_transition_-_star_rating                          18093 non-null  float64\n",
            " 32  overall_hospital_rating_-_linear_mean_score            18093 non-null  float64\n",
            " 33  overall_hospital_rating_-_star_rating                  18093 non-null  float64\n",
            " 34  quietness_-_linear_mean_score                          18093 non-null  float64\n",
            " 35  quietness_-_star_rating                                18093 non-null  float64\n",
            " 36  recommend_hospital_-_linear_mean_score                 18093 non-null  float64\n",
            " 37  recommend_hospital_-_star_rating                       18093 non-null  float64\n",
            "dtypes: float64(31), int64(3), object(4)\n",
            "memory usage: 5.5+ MB\n"
          ]
        }
      ]
    },
    {
      "cell_type": "markdown",
      "source": [
        "Total number of rows that still has `np.nan` values are still much. `backfill` and `frontfill` these entries"
      ],
      "metadata": {
        "id": "znzJ391l1Qgt"
      }
    },
    {
      "cell_type": "code",
      "source": [
        "ind_set = []\n",
        "for i in data.columns:\n",
        "    ind_set += data[i][data[i].isna()].index.tolist()\n",
        "\n",
        "print(f\"Number of rows that has atleast one np.nan value: {len(set(ind_set))}\")"
      ],
      "metadata": {
        "colab": {
          "base_uri": "https://localhost:8080/"
        },
        "id": "Rjr-VyaDv--V",
        "outputId": "9e7bb7d3-c0f1-4ad0-c8cf-2ff62d996387"
      },
      "execution_count": null,
      "outputs": [
        {
          "output_type": "stream",
          "name": "stdout",
          "text": [
            "Number of rows that has atleast one np.nan value: 6491\n"
          ]
        }
      ]
    },
    {
      "cell_type": "code",
      "source": [
        "data = data.ffill().bfill()"
      ],
      "metadata": {
        "id": "7eP0HMJF0K2b"
      },
      "execution_count": null,
      "outputs": []
    },
    {
      "cell_type": "markdown",
      "source": [
        "### Model Building"
      ],
      "metadata": {
        "id": "ZiQJjRbV7hrl"
      }
    },
    {
      "cell_type": "markdown",
      "source": [
        "drop irrelevant columns and scale and split data"
      ],
      "metadata": {
        "id": "7fMkyaoJ8jVN"
      }
    },
    {
      "cell_type": "code",
      "source": [
        "drop_cols = ['facility_name', 'city', 'state', 'number_of_completed_surveys', 'survey_response_rate_percent', 'hospital_ownership']\n",
        "model_data = data.drop(columns=drop_cols)"
      ],
      "metadata": {
        "id": "T-Sy2gzM8h_V"
      },
      "execution_count": null,
      "outputs": []
    },
    {
      "cell_type": "code",
      "source": [
        "# scale data\n",
        "scaler = MinMaxScaler()\n",
        "X = pd.DataFrame(scaler.fit_transform(model_data.drop(columns=[\"hospital_overall_rating\"])),\n",
        "                 columns=model_data.drop(columns=[\"hospital_overall_rating\"]).columns,\n",
        "                 index=model_data.index\n",
        "                 )\n",
        "y = model_data.hospital_overall_rating"
      ],
      "metadata": {
        "id": "gnMoqlyk9l88"
      },
      "execution_count": null,
      "outputs": []
    },
    {
      "cell_type": "code",
      "source": [
        "# split data\n",
        "X_train, X_test, y_train, y_test = tts(X, y, test_size=0.3, random_state=0)"
      ],
      "metadata": {
        "id": "S863pQwW-MB1"
      },
      "execution_count": null,
      "outputs": []
    },
    {
      "cell_type": "markdown",
      "source": [
        "#### With Regression"
      ],
      "metadata": {
        "id": "-vFLYilw7uwp"
      }
    },
    {
      "cell_type": "markdown",
      "source": [
        "__first case__: with only summary star rating"
      ],
      "metadata": {
        "id": "5wHN9v1Q8WV7"
      }
    },
    {
      "cell_type": "code",
      "source": [
        "first_model = Ridge(3).fit(X_train[[\"summary_star_rating\"]], y_train)"
      ],
      "metadata": {
        "id": "2--6hn_g8fK8"
      },
      "execution_count": null,
      "outputs": []
    },
    {
      "cell_type": "code",
      "source": [
        "first_model.score(X_test[[\"summary_star_rating\"]], y_test)"
      ],
      "metadata": {
        "colab": {
          "base_uri": "https://localhost:8080/"
        },
        "id": "aAM5gWtz7JkK",
        "outputId": "c7812ab7-6025-48dd-e4a8-091718a5b1b2"
      },
      "execution_count": null,
      "outputs": [
        {
          "output_type": "execute_result",
          "data": {
            "text/plain": [
              "0.10962828151478621"
            ]
          },
          "metadata": {},
          "execution_count": 38
        }
      ]
    },
    {
      "cell_type": "markdown",
      "source": [
        "__second case__: with only the linear score"
      ],
      "metadata": {
        "id": "HoMmhlM4Hx7-"
      }
    },
    {
      "cell_type": "code",
      "source": [
        "lin_scores = [i for i in data.columns if \"linear_mean_score\" in i]# + [i for i in data.columns if \"star_rating\" in i]"
      ],
      "metadata": {
        "id": "b6fuo56E7NwN"
      },
      "execution_count": null,
      "outputs": []
    },
    {
      "cell_type": "code",
      "source": [
        "sec_model = Ridge(3).fit(X_train[lin_scores], y_train)"
      ],
      "metadata": {
        "id": "iFUk9jdtICrR"
      },
      "execution_count": null,
      "outputs": []
    },
    {
      "cell_type": "code",
      "source": [
        "sec_model.score(X_test[lin_scores], y_test)"
      ],
      "metadata": {
        "colab": {
          "base_uri": "https://localhost:8080/"
        },
        "id": "q3KF9zEtIIWY",
        "outputId": "a2086614-903b-4191-ec3c-bf1659440a96"
      },
      "execution_count": null,
      "outputs": [
        {
          "output_type": "execute_result",
          "data": {
            "text/plain": [
              "0.22449188657891728"
            ]
          },
          "metadata": {},
          "execution_count": 41
        }
      ]
    },
    {
      "cell_type": "markdown",
      "source": [
        "__third case__: with only star ratings"
      ],
      "metadata": {
        "id": "IZJpgVaIINs0"
      }
    },
    {
      "cell_type": "code",
      "source": [
        "star_scores = [i for i in data.columns if \"star_rating\" in i]"
      ],
      "metadata": {
        "id": "VgmywOgnIaA4"
      },
      "execution_count": null,
      "outputs": []
    },
    {
      "cell_type": "code",
      "source": [
        "star_scores.remove(\"summary_star_rating\")"
      ],
      "metadata": {
        "id": "z5wkLAJF-rBK"
      },
      "execution_count": null,
      "outputs": []
    },
    {
      "cell_type": "code",
      "source": [
        "third_model = Ridge().fit(X_train[star_scores], y_train)"
      ],
      "metadata": {
        "id": "pcMbE53lILUu"
      },
      "execution_count": null,
      "outputs": []
    },
    {
      "cell_type": "code",
      "source": [
        "third_model.score(X_test[star_scores], y_test)"
      ],
      "metadata": {
        "colab": {
          "base_uri": "https://localhost:8080/"
        },
        "id": "S8CHWcxJIVjR",
        "outputId": "95cb0fad-3b6c-467b-da52-ca1aa048f0a2"
      },
      "execution_count": null,
      "outputs": [
        {
          "output_type": "execute_result",
          "data": {
            "text/plain": [
              "0.13467170547876084"
            ]
          },
          "metadata": {},
          "execution_count": 45
        }
      ]
    },
    {
      "cell_type": "markdown",
      "source": [
        "__fourth case__: With other columns other than the ratings"
      ],
      "metadata": {
        "id": "abCCDcAUIi9B"
      }
    },
    {
      "cell_type": "code",
      "source": [
        "other_cols = list(set(X.columns.tolist()).difference(set(ratings_cols)))"
      ],
      "metadata": {
        "id": "8JTd4jGkIh5a"
      },
      "execution_count": null,
      "outputs": []
    },
    {
      "cell_type": "code",
      "source": [
        "fourth_model = Ridge(3).fit(X_train[other_cols], y_train)"
      ],
      "metadata": {
        "id": "n3fr9CZYIf1P"
      },
      "execution_count": null,
      "outputs": []
    },
    {
      "cell_type": "code",
      "source": [
        "fourth_model.score(X_test[other_cols], y_test)"
      ],
      "metadata": {
        "colab": {
          "base_uri": "https://localhost:8080/"
        },
        "id": "vd9uz1x9JBkH",
        "outputId": "00d22897-bb96-488d-d8bc-95010f0370be"
      },
      "execution_count": null,
      "outputs": [
        {
          "output_type": "execute_result",
          "data": {
            "text/plain": [
              "0.6582384976984703"
            ]
          },
          "metadata": {},
          "execution_count": 48
        }
      ]
    },
    {
      "cell_type": "markdown",
      "source": [
        "__fifth_case__: with all available columns"
      ],
      "metadata": {
        "id": "cRDi1X3HJzTh"
      }
    },
    {
      "cell_type": "code",
      "source": [
        "fifth_model = Ridge(3).fit(X_train, y_train)"
      ],
      "metadata": {
        "id": "mPjrzQi9Jy_i"
      },
      "execution_count": null,
      "outputs": []
    },
    {
      "cell_type": "code",
      "source": [
        "fifth_model.score(X_test, y_test)"
      ],
      "metadata": {
        "colab": {
          "base_uri": "https://localhost:8080/"
        },
        "id": "BJ86gGO6KAfA",
        "outputId": "bafcd9b9-9256-4d10-e52a-b911452e8089"
      },
      "execution_count": null,
      "outputs": [
        {
          "output_type": "execute_result",
          "data": {
            "text/plain": [
              "0.6936548067867608"
            ]
          },
          "metadata": {},
          "execution_count": 50
        }
      ]
    },
    {
      "cell_type": "markdown",
      "source": [
        "__sixth case__: with combo of other columns and linear scores"
      ],
      "metadata": {
        "id": "liiV9wvUKHPA"
      }
    },
    {
      "cell_type": "code",
      "source": [
        "sixth_model = Ridge(3).fit(X_train[other_cols + lin_scores], y_train)"
      ],
      "metadata": {
        "id": "2DSScEKKKXD_"
      },
      "execution_count": null,
      "outputs": []
    },
    {
      "cell_type": "code",
      "source": [
        "sixth_model.score(X_test[other_cols + lin_scores], y_test)"
      ],
      "metadata": {
        "colab": {
          "base_uri": "https://localhost:8080/"
        },
        "outputId": "e970bf1f-3343-4b9d-c3da-42428818ef79",
        "id": "l4_pxeytKXEB"
      },
      "execution_count": null,
      "outputs": [
        {
          "output_type": "execute_result",
          "data": {
            "text/plain": [
              "0.676030939551905"
            ]
          },
          "metadata": {},
          "execution_count": 52
        }
      ]
    },
    {
      "cell_type": "markdown",
      "source": [
        "__seventh case__: with combo of other columns and summary star rating"
      ],
      "metadata": {
        "id": "nBhr73OJKuec"
      }
    },
    {
      "cell_type": "code",
      "source": [
        "seventh_model = Ridge().fit(X_train[other_cols + [\"summary_star_rating\"]], y_train)"
      ],
      "metadata": {
        "id": "tQ1Q45MHKued"
      },
      "execution_count": null,
      "outputs": []
    },
    {
      "cell_type": "code",
      "source": [
        "seventh_model.score(X_test[other_cols + [\"summary_star_rating\"]], y_test)"
      ],
      "metadata": {
        "colab": {
          "base_uri": "https://localhost:8080/"
        },
        "outputId": "3937293c-3314-49c6-d5b9-011e90ff2dfa",
        "id": "b_uRxUVaKuee"
      },
      "execution_count": null,
      "outputs": [
        {
          "output_type": "execute_result",
          "data": {
            "text/plain": [
              "0.6691609612156006"
            ]
          },
          "metadata": {},
          "execution_count": 54
        }
      ]
    },
    {
      "cell_type": "markdown",
      "source": [
        "__eighth case__: with combo of other columns and star ratings"
      ],
      "metadata": {
        "id": "5emx4FFLLZpX"
      }
    },
    {
      "cell_type": "code",
      "source": [
        "eighth_model = Ridge(3).fit(X_train[other_cols + star_scores], y_train)"
      ],
      "metadata": {
        "id": "aE3StE9gLZpY"
      },
      "execution_count": null,
      "outputs": []
    },
    {
      "cell_type": "code",
      "source": [
        "eighth_model.score(X_test[other_cols + star_scores], y_test)"
      ],
      "metadata": {
        "colab": {
          "base_uri": "https://localhost:8080/"
        },
        "outputId": "6cc2aa68-3a44-4c0b-e5b3-c8457e3c5bce",
        "id": "S2lN9_4bLZpZ"
      },
      "execution_count": null,
      "outputs": [
        {
          "output_type": "execute_result",
          "data": {
            "text/plain": [
              "0.6730177371044944"
            ]
          },
          "metadata": {},
          "execution_count": 56
        }
      ]
    },
    {
      "cell_type": "markdown",
      "source": [
        "- The best result was got from the use of `all available columns`\n",
        "\n",
        "- The columns that were of high importance weren't the ratings and scores columns but the `other columns` which consist of national comparisons and others\n",
        "\n",
        "- `linear scores columns` showed highest importance amongst the rating and scores columns\n",
        "\n",
        "- the `summary star rating column` showed the lowest importance when used stand alone"
      ],
      "metadata": {
        "id": "SOvnWqvyMEuF"
      }
    },
    {
      "cell_type": "markdown",
      "source": [
        "Making a function to calculate all possible combinations"
      ],
      "metadata": {
        "id": "LoeVPdvw_PI6"
      }
    },
    {
      "cell_type": "code",
      "source": [
        "col_groups = {\"star_ratings\" : star_scores,\n",
        "              \"lin_scores\" : lin_scores,\n",
        "              \"summary_rating\" : [\"summary_star_rating\"],\n",
        "              \"other_cols\" : other_cols,\n",
        "              }"
      ],
      "metadata": {
        "id": "j5uNZHgDaLgs"
      },
      "execution_count": null,
      "outputs": []
    },
    {
      "cell_type": "code",
      "source": [
        "def create_combination(col_groups):\n",
        "    cols = list(col_groups.values())\n",
        "    names = list(col_groups.keys())\n",
        "\n",
        "    col_combinations = []\n",
        "    col_combination_names = []\n",
        "    a,b = 0,1\n",
        "    for i in range(len(cols)):\n",
        "        col_combinations.append(cols[i])\n",
        "        col_combination_names.append(f\"{names[i]}\")\n",
        "        a+=1\n",
        "        for j in range(len(cols))[a:]:\n",
        "            col_combinations.append(cols[i] + cols[j])\n",
        "            col_combination_names.append(f\"{names[i]} + {names[j]}\")\n",
        "            b+=1\n",
        "            for k in range(len(cols))[b:]:\n",
        "                col_combinations.append(cols[i] + cols[j] + cols[k])\n",
        "                col_combination_names.append(f\"{names[i]} + {names[j]} + {names[k]}\")\n",
        "    col_combinations.append(X.columns)\n",
        "    col_combination_names.append(\"all_columns\")\n",
        "    return col_combination_names, col_combinations"
      ],
      "metadata": {
        "id": "nJEQAY09JtF5"
      },
      "execution_count": null,
      "outputs": []
    },
    {
      "cell_type": "code",
      "source": [
        ""
      ],
      "metadata": {
        "id": "9MeXjNJoaKAH"
      },
      "execution_count": null,
      "outputs": []
    },
    {
      "cell_type": "code",
      "source": [
        "c = create_combination(col_groups)"
      ],
      "metadata": {
        "id": "dNPoDEUZSans"
      },
      "execution_count": null,
      "outputs": []
    },
    {
      "cell_type": "code",
      "source": [
        "def score_model(col_groups, model = Ridge()):\n",
        "    results = {}\n",
        "    names, cols = create_combination(col_groups)\n",
        "    for i,j in zip(names, cols):\n",
        "        model = model.fit(X_train[j], y_train)\n",
        "        print(f\"{i:40} ==> {model.score(X_test[j], y_test)}\\n\")\n",
        "        results[i] = model.score(X_test[j], y_test)\n",
        "    return results"
      ],
      "metadata": {
        "id": "SKuOj08naCgM"
      },
      "execution_count": null,
      "outputs": []
    },
    {
      "cell_type": "code",
      "source": [
        "x = score_model(col_groups)"
      ],
      "metadata": {
        "colab": {
          "base_uri": "https://localhost:8080/"
        },
        "id": "lea3Qt5tncj9",
        "outputId": "0a504fb9-6878-4f08-9362-c21ec1b9501a"
      },
      "execution_count": null,
      "outputs": [
        {
          "output_type": "stream",
          "name": "stdout",
          "text": [
            "star_ratings                             ==> 0.13467170547876084\n",
            "\n",
            "star_ratings + lin_scores                ==> 0.35549335626912903\n",
            "\n",
            "star_ratings + lin_scores + summary_rating ==> 0.35514372146715756\n",
            "\n",
            "star_ratings + lin_scores + other_cols   ==> 0.6942734317474457\n",
            "\n",
            "star_ratings + summary_rating            ==> 0.13426799499945885\n",
            "\n",
            "star_ratings + summary_rating + other_cols ==> 0.6730347220436649\n",
            "\n",
            "star_ratings + other_cols                ==> 0.6730337769860257\n",
            "\n",
            "lin_scores                               ==> 0.244831462463021\n",
            "\n",
            "lin_scores + summary_rating              ==> 0.32309587974142673\n",
            "\n",
            "lin_scores + other_cols                  ==> 0.6788158207210762\n",
            "\n",
            "summary_rating                           ==> 0.10962827846042456\n",
            "\n",
            "summary_rating + other_cols              ==> 0.6691609612156006\n",
            "\n",
            "other_cols                               ==> 0.6582431700259121\n",
            "\n",
            "all_columns                              ==> 0.6942697066341651\n",
            "\n"
          ]
        }
      ]
    },
    {
      "cell_type": "code",
      "source": [
        "%matplotlib inline\n",
        "plt.figure(figsize=(12,10))\n",
        "plt.barh(list(x.keys()), list(x.values()))\n",
        "plt.grid(axis=\"x\")"
      ],
      "metadata": {
        "colab": {
          "base_uri": "https://localhost:8080/",
          "height": 592
        },
        "id": "PSuvyBWaiC8g",
        "outputId": "99bea342-1ec7-476b-bed0-1d1746ca70ef"
      },
      "execution_count": null,
      "outputs": [
        {
          "output_type": "display_data",
          "data": {
            "image/png": "[encoded data removed]",
            "text/plain": [
              "<Figure size 864x720 with 1 Axes>"
            ]
          },
          "metadata": {
            "needs_background": "light"
          }
        }
      ]
    },
    {
      "cell_type": "markdown",
      "source": [
        "#### With Classification\n",
        "\n",
        "\n"
      ],
      "metadata": {
        "id": "WtIv-bIkNOwF"
      }
    },
    {
      "cell_type": "code",
      "source": [
        ""
      ],
      "metadata": {
        "id": "RP0Vnuicn1f3"
      },
      "execution_count": null,
      "outputs": []
    }
  ]
}